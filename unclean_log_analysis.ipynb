{
 "cells": [
  {
   "cell_type": "code",
   "execution_count": 1,
   "metadata": {},
   "outputs": [],
   "source": [
    "import pandas as pd"
   ]
  },
  {
   "cell_type": "code",
   "execution_count": 2,
   "metadata": {},
   "outputs": [],
   "source": [
    "path='unclean_log.log'"
   ]
  },
  {
   "cell_type": "markdown",
   "metadata": {},
   "source": [
    "If one tries to load this log with the option converters={'status': int, 'size': int, 'req_time': int}, an exception is thrown :"
   ]
  },
  {
   "cell_type": "code",
   "execution_count": 3,
   "metadata": {},
   "outputs": [
    {
     "name": "stdout",
     "output_type": "stream",
     "text": [
      "invalid literal for int() with base 10: '\"GET /agent/10577/bdl HTTP/1.1\"'\n"
     ]
    }
   ],
   "source": [
    "try:\n",
    "    pd.read_csv(path,\n",
    "                 sep=r'\\s(?=(?:[^\"]*\"[^\"]*\")*[^\"]*$)(?![^\\[]*\\])', \n",
    "                 engine='python', na_values=['-'], header=None,\n",
    "                 usecols=[0, 3, 4, 5, 6, 7, 8,10],\n",
    "                 names=['ip', 'time', 'request', 'status', 'size', 'referer',\n",
    "                 'user_agent','req_time'],converters={'status': int, 'size': int, 'req_time': int})\n",
    "except Exception as parse_error:\n",
    "        print(parse_error)"
   ]
  },
  {
   "cell_type": "markdown",
   "metadata": {},
   "source": [
    "Some line appears to be shifted, we have a request in the status column. Let's get the index of the lines where something wrong happens.\n",
    "\n",
    "First, we load the dataframe without recasting :"
   ]
  },
  {
   "cell_type": "code",
   "execution_count": 4,
   "metadata": {},
   "outputs": [],
   "source": [
    "df=pd.read_csv(path,\n",
    "                 sep=r'\\s(?=(?:[^\"]*\"[^\"]*\")*[^\"]*$)(?![^\\[]*\\])', \n",
    "                 engine='python', na_values=['-'], header=None,\n",
    "                 usecols=[0, 3, 4, 5, 6, 7, 8,10],\n",
    "                 names=['ip', 'time', 'request', 'status', 'size', 'referer',\n",
    "                 'user_agent','req_time'])"
   ]
  },
  {
   "cell_type": "markdown",
   "metadata": {},
   "source": [
    "Now, the plan is straightforward : we try to recast the elements of a column using .apply, and log the indexes of the lines where that couldn't be achieved. For the sake of the example, we use the dictionary __wrong_lines__ to log these. The keys will be indexes of wrong lines, the values correspond to what couldn't be recasted.\n",
    "\n",
    "However, this is tricky since a row \"forgets\" its index. Hence, we temporarily add a column 'index' to the dataframe using the built in function __reset_index__ ."
   ]
  },
  {
   "cell_type": "code",
   "execution_count": 5,
   "metadata": {},
   "outputs": [],
   "source": [
    "wrong_lines={}\n",
    "def convert_int_feedback_index(row,col):\n",
    "    #function to be used with .apply\n",
    "    try:\n",
    "        ans = int(row[col])\n",
    "    except:\n",
    "        wrong_lines[row['index']] = row[col]\n",
    "        ans= pd.np.nan\n",
    "    return ans\n",
    "\n",
    "def convert_log_with_feedback(df,col):\n",
    "    wrong_lines.clear()\n",
    "    df_index=df.reset_index()\n",
    "    df_index[col]=df_index.apply(convert_int_feedback_index,axis=1,col=col)\n",
    "    if len(wrong_lines.keys()) != 0:\n",
    "        print(\"Warning! Some lines couldn't be converted properly\")\n",
    "    df_index.pop('index')\n",
    "    return df_index"
   ]
  },
  {
   "cell_type": "code",
   "execution_count": 6,
   "metadata": {},
   "outputs": [
    {
     "name": "stdout",
     "output_type": "stream",
     "text": [
      "Warning! Some lines couldn't be converted properly\n"
     ]
    }
   ],
   "source": [
    "df = convert_log_with_feedback(df,'status')"
   ]
  },
  {
   "cell_type": "markdown",
   "metadata": {},
   "source": [
    "Yay! Let's have a look at our dictionary :"
   ]
  },
  {
   "cell_type": "code",
   "execution_count": 7,
   "metadata": {},
   "outputs": [
    {
     "data": {
      "text/plain": [
       "{249242: '\"GET /agent/10577/bdl HTTP/1.1\"',\n",
       " 249245: '\"GET /agent/4231/bdl HTTP/1.1\"',\n",
       " 249246: '\"GET /agent/11344/bdl HTTP/1.1\"',\n",
       " 249247: '\"GET /agent/5997/bdl HTTP/1.1\"',\n",
       " 249248: '\"GET /agent/6862/bdl HTTP/1.1\"',\n",
       " 249249: '\"GET /bdl/1014982/updated_at?datetime=2018-09-19%2020:29:51 HTTP/1.1\"',\n",
       " 249251: '\"GET /agent/6383/bdl HTTP/1.1\"',\n",
       " 249255: '\"GET /agent/3933/bdl HTTP/1.1\"',\n",
       " 249256: '\"GET /agent/5995/bdl HTTP/1.1\"',\n",
       " 249257: '\"GET /agent/6988/bdl HTTP/1.1\"',\n",
       " 249260: '\"GET /agent/11344/bdl HTTP/1.1\"',\n",
       " 249265: '\"GET /agent/10520/bdl HTTP/1.1\"',\n",
       " 249266: '\"GET /agent/5232/bdl HTTP/1.1\"',\n",
       " 249267: '\"GET /agent/8019/bdl HTTP/1.1\"',\n",
       " 249268: '\"GET /agent/7418/bdl HTTP/1.1\"',\n",
       " 249269: '\"GET /agent/10660/bdl HTTP/1.1\"',\n",
       " 249275: '\"GET /agent/4868/bdl HTTP/1.1\"',\n",
       " 249276: '\"GET /agent/4528/bdl HTTP/1.1\"',\n",
       " 249278: '\"GET /agent/6442/bdl HTTP/1.1\"',\n",
       " 249280: '\"GET /agent/7505/bdl HTTP/1.1\"',\n",
       " 249282: '\"GET /agent/7818/bdl HTTP/1.1\"',\n",
       " 249285: '\"GET /agent/11344/bdl HTTP/1.1\"',\n",
       " 249286: '\"GET /agent/5997/bdl HTTP/1.1\"',\n",
       " 249287: '\"GET /agent/6129/bdl HTTP/1.1\"',\n",
       " 249288: '\"GET /agent/6862/bdl HTTP/1.1\"',\n",
       " 249289: '\"GET /agent/4641/bdl HTTP/1.1\"',\n",
       " 249290: '\"GET /bdl/1014982/updated_at?datetime=2018-09-19%2020:29:51 HTTP/1.1\"',\n",
       " 249295: '\"GET /agent/6415/bdl HTTP/1.1\"',\n",
       " 249297: '\"GET /agent/6487/bdl HTTP/1.1\"',\n",
       " 249300: '\"GET /agent/6988/bdl HTTP/1.1\"',\n",
       " 249301: '\"GET /agent/11344/bdl HTTP/1.1\"',\n",
       " 249303: '\"GET /agent/5997/bdl HTTP/1.1\"',\n",
       " 249305: '\"GET /agent/7165/bdl HTTP/1.1\"',\n",
       " 249307: '\"GET /agent/4760/bdl HTTP/1.1\"',\n",
       " 249309: '\"GET /agent/5084/bdl HTTP/1.1\"',\n",
       " 249311: '\"GET /agent/6988/bdl HTTP/1.1\"',\n",
       " 249312: '\"GET /agent/4231/bdl HTTP/1.1\"',\n",
       " 249313: '\"GET /agent/11344/bdl HTTP/1.1\"',\n",
       " 249315: '\"GET /agent/6862/bdl HTTP/1.1\"',\n",
       " 249317: '\"GET /agent/4170/bdl HTTP/1.1\"',\n",
       " 249320: '\"GET /agent/4511/bdl HTTP/1.1\"',\n",
       " 249322: '\"GET /agent/6988/bdl HTTP/1.1\"',\n",
       " 249324: '\"GET /agent/11344/bdl HTTP/1.1\"',\n",
       " 249325: '\"GET /agent/5997/bdl HTTP/1.1\"',\n",
       " 249329: '\"GET /bdl/1015615/updated_at?datetime=2018-09-19%2020:35:12 HTTP/1.1\"',\n",
       " 249332: '\"GET /agent/7909/bdl HTTP/1.1\"',\n",
       " 249333: '\"GET /agent/6382/bdl HTTP/1.1\"',\n",
       " 249335: '\"GET /agent/7716/bdl HTTP/1.1\"',\n",
       " 249336: '\"GET /agent/4528/bdl HTTP/1.1\"',\n",
       " 249337: '\"GET /agent/6335/bdl HTTP/1.1\"',\n",
       " 249339: '\"GET /agent/4231/bdl HTTP/1.1\"',\n",
       " 249340: '\"GET /agent/11344/bdl HTTP/1.1\"',\n",
       " 249342: '\"GET /agent/6862/bdl HTTP/1.1\"',\n",
       " 249345: '\"GET /agent/4555/bdl HTTP/1.1\"',\n",
       " 249349: '\"GET /agent/7483/bdl HTTP/1.1\"',\n",
       " 249350: '\"GET /agent/5912/bdl HTTP/1.1\"',\n",
       " 249352: '\"GET /agent/6283/bdl HTTP/1.1\"',\n",
       " 249355: '\"GET /agent/5997/bdl HTTP/1.1\"',\n",
       " 249358: '\"GET /agent/10577/bdl HTTP/1.1\"',\n",
       " 249359: '\"GET /agent/7413/bdl HTTP/1.1\"',\n",
       " 249362: '\"GET /agent/6988/bdl HTTP/1.1\"',\n",
       " 249363: '\"GET /agent/6129/bdl HTTP/1.1\"',\n",
       " 249364: '\"GET /agent/4231/bdl HTTP/1.1\"',\n",
       " 249365: '\"GET /agent/11344/bdl HTTP/1.1\"',\n",
       " 249366: '\"GET /agent/5997/bdl HTTP/1.1\"',\n",
       " 249368: '\"GET /agent/7946/bdl HTTP/1.1\"',\n",
       " 249369: '\"GET /agent/3998/bdl HTTP/1.1\"',\n",
       " 249372: '\"GET /agent/4188/bdl HTTP/1.1\"',\n",
       " 249374: '\"GET /agent/6283/bdl HTTP/1.1\"',\n",
       " 249378: '\"GET /agent/4944/bdl HTTP/1.1\"',\n",
       " 249380: '\"GET /agent/11344/bdl HTTP/1.1\"',\n",
       " 249383: '\"GET /agent/5286/bdl HTTP/1.1\"',\n",
       " 249384: '\"GET /agent/6383/bdl HTTP/1.1\"',\n",
       " 249385: '\"GET /agent/5375/bdl HTTP/1.1\"',\n",
       " 249386: '\"GET /agent/5983/bdl HTTP/1.1\"',\n",
       " 249387: '\"GET /agent/5010/bdl HTTP/1.1\"',\n",
       " 249388: '\"GET /agent/11339/bdl HTTP/1.1\"',\n",
       " 249389: '\"GET /agent/6154/bdl HTTP/1.1\"',\n",
       " 249390: '\"GET /agent/6988/bdl HTTP/1.1\"',\n",
       " 249391: '\"GET /agent/4231/bdl HTTP/1.1\"',\n",
       " 249392: '\"GET /agent/11344/bdl HTTP/1.1\"',\n",
       " 249393: '\"GET /agent/5997/bdl HTTP/1.1\"',\n",
       " 249394: '\"GET /agent/10529/bdl HTTP/1.1\"',\n",
       " 249395: '\"GET /agent/10720/bdl HTTP/1.1\"',\n",
       " 249396: '\"GET /agent/6855/bdl HTTP/1.1\"',\n",
       " 249397: '\"GET /agent/5010/bdl HTTP/1.1\"',\n",
       " 249398: '\"GET /agent/6484/bdl HTTP/1.1\"',\n",
       " 249399: '\"GET /agent/6988/bdl HTTP/1.1\"',\n",
       " 249400: '\"GET /agent/11314/bdl HTTP/1.1\"',\n",
       " 249401: '\"GET /agent/4231/bdl HTTP/1.1\"',\n",
       " 249402: '\"GET /agent/11344/bdl HTTP/1.1\"',\n",
       " 249403: '\"GET /agent/5997/bdl HTTP/1.1\"',\n",
       " 249404: '\"GET /agent/10547/bdl HTTP/1.1\"',\n",
       " 249405: '\"GET /agent/11339/bdl HTTP/1.1\"',\n",
       " 249406: '\"GET /bdl/1014982/updated_at?datetime=2018-09-19%2020:29:51 HTTP/1.1\"',\n",
       " 249407: '\"GET /bdl/1015615/updated_at?datetime=2018-09-19%2020:35:12 HTTP/1.1\"',\n",
       " 249408: '\"GET /agent/5227/bdl HTTP/1.1\"',\n",
       " 249409: '\"GET /agent/4511/bdl HTTP/1.1\"',\n",
       " 249410: '\"GET /agent/6988/bdl HTTP/1.1\"',\n",
       " 249411: '\"GET /agent/5285/bdl HTTP/1.1\"',\n",
       " 249412: '\"GET /agent/4231/bdl HTTP/1.1\"',\n",
       " 249413: '\"GET /agent/11344/bdl HTTP/1.1\"',\n",
       " 249414: '\"GET /agent/5997/bdl HTTP/1.1\"',\n",
       " 249415: '\"GET /agent/5073/bdl HTTP/1.1\"',\n",
       " 249416: '\"GET /agent/5010/bdl HTTP/1.1\"',\n",
       " 249417: '\"GET /agent/4803/bdl HTTP/1.1\"',\n",
       " 249418: '\"GET /agent/4803/bdl HTTP/1.1\"',\n",
       " 249419: '\"GET /agent/5289/bdl HTTP/1.1\"',\n",
       " 249420: '\"GET /agent/6988/bdl HTTP/1.1\"',\n",
       " 249421: '\"GET /agent/4231/bdl HTTP/1.1\"',\n",
       " 249422: '\"GET /agent/11344/bdl HTTP/1.1\"',\n",
       " 249423: '\"GET /agent/5997/bdl HTTP/1.1\"',\n",
       " 249424: '\"PUT /bdl/931542/sign HTTP/1.1\"',\n",
       " 249425: '\"GET /agent/6900/bdl HTTP/1.1\"',\n",
       " 249426: '\"GET /agent/6855/bdl HTTP/1.1\"',\n",
       " 249427: '\"GET /agent/5289/bdl HTTP/1.1\"',\n",
       " 249428: '\"GET /agent/6274/bdl HTTP/1.1\"',\n",
       " 249429: '\"GET /agent/6988/bdl HTTP/1.1\"',\n",
       " 249430: '\"GET /agent/4231/bdl HTTP/1.1\"',\n",
       " 249431: '\"GET /agent/11344/bdl HTTP/1.1\"',\n",
       " 249432: '\"GET /agent/5997/bdl HTTP/1.1\"',\n",
       " 249433: '\"GET /agent/6855/bdl HTTP/1.1\"',\n",
       " 249434: '\"GET /agent/6864/bdl HTTP/1.1\"',\n",
       " 249435: '\"GET /bdl/1014982/updated_at?datetime=2018-09-19%2020:29:51 HTTP/1.1\"',\n",
       " 249436: '\"GET /bdl/1015615/updated_at?datetime=2018-09-19%2020:35:12 HTTP/1.1\"',\n",
       " 249437: '\"GET /agent/6864/bdl HTTP/1.1\"',\n",
       " 249438: '\"GET /agent/4652/bdl HTTP/1.1\"',\n",
       " 249439: '\"GET /agent/5506/bdl HTTP/1.1\"',\n",
       " 249440: '\"GET /agent/5506/bdl HTTP/1.1\"',\n",
       " 249441: '\"GET /agent/6549/bdl HTTP/1.1\"',\n",
       " 249442: '\"GET /agent/7381/bdl HTTP/1.1\"',\n",
       " 249443: '\"GET /agent/6129/bdl HTTP/1.1\"',\n",
       " 249444: '\"GET /agent/6549/bdl HTTP/1.1\"',\n",
       " 249445: '\"GET /agent/6988/bdl HTTP/1.1\"',\n",
       " 249446: '\"GET /agent/4231/bdl HTTP/1.1\"',\n",
       " 249447: '\"GET /agent/11344/bdl HTTP/1.1\"',\n",
       " 249448: '\"GET /agent/5997/bdl HTTP/1.1\"',\n",
       " 249449: '\"GET /agent/6144/bdl HTTP/1.1\"',\n",
       " 249450: '\"GET /agent/7466/bdl HTTP/1.1\"',\n",
       " 249451: '\"GET /agent/6988/bdl HTTP/1.1\"'}"
      ]
     },
     "execution_count": 7,
     "metadata": {},
     "output_type": "execute_result"
    }
   ],
   "source": [
    "wrong_lines"
   ]
  },
  {
   "cell_type": "markdown",
   "metadata": {},
   "source": [
    "Interesting, almost all lines between 249242 and 249451 are wrong. Let's have a look at two typycal wrong lines:"
   ]
  },
  {
   "cell_type": "code",
   "execution_count": 8,
   "metadata": {},
   "outputs": [
    {
     "name": "stdout",
     "output_type": "stream",
     "text": [
      "111.22.117.229, 111.22.117.229 - - [19/Sep/2018:22:17:40 +0200] \"GET /agent/10577/bdl HTTP/1.1\" 204 - \"-\" \"okhttp/3.8.0\" apibackend.site.fr 429282\n",
      "\n",
      "111.22.116.184 \"111.22.105.253, 111.22.105.253\" - - [19/Sep/2018:22:20:22 +0200] \"GET /agent/5983/bdl HTTP/1.1\" 204 - \"-\" \"okhttp/3.8.0\" apibackend.site.fr 512517\n",
      "\n"
     ]
    }
   ],
   "source": [
    "f=open(path)\n",
    "lines=f.readlines()\n",
    "print(lines[249242])\n",
    "print(lines[249386])\n",
    "f.close()"
   ]
  },
  {
   "cell_type": "markdown",
   "metadata": {},
   "source": [
    "There's a pattern here. Soon, we'll be able to load these unclean logs automatically!"
   ]
  }
 ],
 "metadata": {
  "kernelspec": {
   "display_name": "Python 3",
   "language": "python",
   "name": "python3"
  },
  "language_info": {
   "codemirror_mode": {
    "name": "ipython",
    "version": 3
   },
   "file_extension": ".py",
   "mimetype": "text/x-python",
   "name": "python",
   "nbconvert_exporter": "python",
   "pygments_lexer": "ipython3",
   "version": "3.6.5"
  }
 },
 "nbformat": 4,
 "nbformat_minor": 2
}
