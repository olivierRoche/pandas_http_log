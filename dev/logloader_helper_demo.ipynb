{
 "cells": [
  {
   "cell_type": "code",
   "execution_count": 1,
   "metadata": {},
   "outputs": [],
   "source": [
    "import logloader_helper"
   ]
  },
  {
   "cell_type": "code",
   "execution_count": 2,
   "metadata": {},
   "outputs": [
    {
     "name": "stdout",
     "output_type": "stream",
     "text": [
      "This log couldn't be loaded properly. Use the method .analyse_lines to have a look at what went wrong\n",
      "\n",
      "gathering wrong lines...\n",
      "Done\n"
     ]
    }
   ],
   "source": [
    "helper=logloader_helper.log_read_csv('unclean_log.log.gz')"
   ]
  },
  {
   "cell_type": "code",
   "execution_count": 3,
   "metadata": {},
   "outputs": [
    {
     "name": "stdout",
     "output_type": "stream",
     "text": [
      "line split :\n",
      "\n",
      "['111.22.117.229,', '111.22.117.229', '-', '-', '[19/Sep/2018:22:17:40 +0200]', '\"GET /agent/10577/bdl HTTP/1.1\"', '204', '-', '\"-\"', '\"okhttp/3.8.0\"', 'apibackend.site.fr', '429282']\n",
      "\n",
      "\n",
      "suggested fields :\n",
      "\n",
      "['ip', 'ip', 'empty', 'empty', 'time', 'request', 'status', 'number', 'referer', 'user_agent', 'unknown', 'number']\n"
     ]
    }
   ],
   "source": [
    "helper.analyse_lines()"
   ]
  },
  {
   "cell_type": "code",
   "execution_count": null,
   "metadata": {},
   "outputs": [],
   "source": [
    "helper.recover_wrong_lines()"
   ]
  },
  {
   "cell_type": "code",
   "execution_count": null,
   "metadata": {},
   "outputs": [],
   "source": [
    "data = helper.retrieve_dataframe()\n",
    "data"
   ]
  }
 ],
 "metadata": {
  "kernelspec": {
   "display_name": "Python 3",
   "language": "python",
   "name": "python3"
  },
  "language_info": {
   "codemirror_mode": {
    "name": "ipython",
    "version": 3
   },
   "file_extension": ".py",
   "mimetype": "text/x-python",
   "name": "python",
   "nbconvert_exporter": "python",
   "pygments_lexer": "ipython3",
   "version": "3.7.0"
  }
 },
 "nbformat": 4,
 "nbformat_minor": 2
}
